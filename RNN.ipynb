{
  "nbformat": 4,
  "nbformat_minor": 0,
  "metadata": {
    "colab": {
      "name": "RNN.ipynb",
      "provenance": [],
      "collapsed_sections": []
    },
    "kernelspec": {
      "display_name": "Python 3",
      "name": "python3"
    },
    "language_info": {
      "name": "python"
    }
  },
  "cells": [
    {
      "cell_type": "code",
      "metadata": {
        "colab": {
          "resources": {
            "http://localhost:8080/nbextensions/google.colab/files.js": {
              "data": "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",
              "ok": true,
              "headers": [
                [
                  "content-type",
                  "application/javascript"
                ]
              ],
              "status": 200,
              "status_text": ""
            }
          },
          "base_uri": "https://localhost:8080/",
          "height": 73
        },
        "id": "42Ph6A9LdP7t",
        "outputId": "7da80922-ac17-4aeb-d67b-bdd895a66ded"
      },
      "source": [
        "import numpy as np\n",
        "\n",
        "import tensorflow_datasets as tfds\n",
        "import tensorflow as tf\n",
        "\n",
        "tfds.disable_progress_bar()\n",
        "from google.colab import files \n",
        "uploaded = files.upload()"
      ],
      "execution_count": null,
      "outputs": [
        {
          "output_type": "display_data",
          "data": {
            "text/html": [
              "\n",
              "     <input type=\"file\" id=\"files-8b92fe39-0696-4250-901e-09777a6d5a75\" name=\"files[]\" multiple disabled\n",
              "        style=\"border:none\" />\n",
              "     <output id=\"result-8b92fe39-0696-4250-901e-09777a6d5a75\">\n",
              "      Upload widget is only available when the cell has been executed in the\n",
              "      current browser session. Please rerun this cell to enable.\n",
              "      </output>\n",
              "      <script src=\"/nbextensions/google.colab/files.js\"></script> "
            ],
            "text/plain": [
              "<IPython.core.display.HTML object>"
            ]
          },
          "metadata": {
            "tags": []
          }
        },
        {
          "output_type": "stream",
          "text": [
            "Saving metadata.csv to metadata.csv\n"
          ],
          "name": "stdout"
        }
      ]
    },
    {
      "cell_type": "code",
      "metadata": {
        "id": "BM7ehwM7k7Cl"
      },
      "source": [
        "#importing the dataset into Colab\n",
        "import io\n",
        "import pandas as pd\n",
        "df = pd.read_csv(io.BytesIO(uploaded['metadata.csv']))\n"
      ],
      "execution_count": null,
      "outputs": []
    },
    {
      "cell_type": "code",
      "metadata": {
        "colab": {
          "base_uri": "https://localhost:8080/",
          "height": 368
        },
        "id": "IS1A00RdRYof",
        "outputId": "9fd55440-2fc8-4480-fc13-926ecddb939b"
      },
      "source": [
        "import seaborn as sns\n",
        "sns.heatmap(df.corr())"
      ],
      "execution_count": null,
      "outputs": [
        {
          "output_type": "execute_result",
          "data": {
            "text/plain": [
              "<matplotlib.axes._subplots.AxesSubplot at 0x7f26ad214fd0>"
            ]
          },
          "metadata": {
            "tags": []
          },
          "execution_count": 3
        },
        {
          "output_type": "display_data",
          "data": {
            "image/png": "[encoded data removed]",
            "text/plain": [
              "<Figure size 432x288 with 2 Axes>"
            ]
          },
          "metadata": {
            "tags": [],
            "needs_background": "light"
          }
        }
      ]
    },
    {
      "cell_type": "code",
      "metadata": {
        "colab": {
          "base_uri": "https://localhost:8080/"
        },
        "id": "T_JHj2ptlBO2",
        "outputId": "906915e4-986f-49af-92f6-599a9dc6091c"
      },
      "source": [
        "data_extracted_initial=df[['finding','clinical_notes']]\n",
        "nrow=data_extracted_initial.shape[0]\n",
        "\n",
        "ncol=data_extracted_initial.shape[1]\n",
        "print(nrow,ncol)\n",
        " \n",
        "#Check if the rows with null values have to be removed\n",
        "data_extracted_initial=data_extracted_initial.dropna()\n",
        "nrow=data_extracted_initial.shape[0]\n",
        "ncol=data_extracted_initial.shape[1]\n",
        "print(nrow,ncol)"
      ],
      "execution_count": null,
      "outputs": [
        {
          "output_type": "stream",
          "text": [
            "950 2\n",
            "768 2\n"
          ],
          "name": "stdout"
        }
      ]
    },
    {
      "cell_type": "code",
      "metadata": {
        "colab": {
          "base_uri": "https://localhost:8080/"
        },
        "id": "frjeMgT1lE47",
        "outputId": "4923838c-51c0-4149-a246-f37085fc1238"
      },
      "source": [
        "data_extracted_initial['finding'] = data_extracted_initial['finding'].str.replace(\"Pneumonia/Viral/COVID-19\",\"COVID-19\")\n",
        "data_extracted_initial['finding'] = data_extracted_initial['finding'].str.replace(\"Pneumonia/Viral/SARS\",\"SARS\")\n",
        "data_extracted_initial['finding'] = data_extracted_initial['finding'].str.replace(\"^Pneumonia$\",\"ARDS\",regex=True)\n",
        "\n",
        "virus = ['COVID-19','SARS','ARDS']\n",
        "data_extracted = data_extracted_initial[data_extracted_initial.finding.str.contains('|'.join(virus))]\n",
        "\n",
        "nrow=data_extracted.shape[0]\n",
        "ncol=data_extracted.shape[1]\n",
        "print(nrow,ncol)\n",
        "data_extracted.finding.value_counts()"
      ],
      "execution_count": null,
      "outputs": [
        {
          "output_type": "stream",
          "text": [
            "584 2\n"
          ],
          "name": "stdout"
        },
        {
          "output_type": "execute_result",
          "data": {
            "text/plain": [
              "COVID-19    487\n",
              "ARDS         81\n",
              "SARS         16\n",
              "Name: finding, dtype: int64"
            ]
          },
          "metadata": {
            "tags": []
          },
          "execution_count": 5
        }
      ]
    },
    {
      "cell_type": "code",
      "metadata": {
        "colab": {
          "base_uri": "https://localhost:8080/",
          "height": 558
        },
        "id": "fNTu5Ve_lHqk",
        "outputId": "d58dd6fd-3159-4392-995c-9d3edb9ddf22"
      },
      "source": [
        "data_extracted['report_length']=data_extracted['clinical_notes'].str.len()\n",
        "data_extracted['report_length']=data_extracted['report_length'].astype(int)\n",
        "data_extracted.head(10)"
      ],
      "execution_count": null,
      "outputs": [
        {
          "output_type": "stream",
          "text": [
            "/usr/local/lib/python3.7/dist-packages/ipykernel_launcher.py:1: SettingWithCopyWarning: \n",
            "A value is trying to be set on a copy of a slice from a DataFrame.\n",
            "Try using .loc[row_indexer,col_indexer] = value instead\n",
            "\n",
            "See the caveats in the documentation: https://pandas.pydata.org/pandas-docs/stable/user_guide/indexing.html#returning-a-view-versus-a-copy\n",
            "  \"\"\"Entry point for launching an IPython kernel.\n",
            "/usr/local/lib/python3.7/dist-packages/ipykernel_launcher.py:2: SettingWithCopyWarning: \n",
            "A value is trying to be set on a copy of a slice from a DataFrame.\n",
            "Try using .loc[row_indexer,col_indexer] = value instead\n",
            "\n",
            "See the caveats in the documentation: https://pandas.pydata.org/pandas-docs/stable/user_guide/indexing.html#returning-a-view-versus-a-copy\n",
            "  \n"
          ],
          "name": "stderr"
        },
        {
          "output_type": "execute_result",
          "data": {
            "text/html": [
              "<div>\n",
              "<style scoped>\n",
              "    .dataframe tbody tr th:only-of-type {\n",
              "        vertical-align: middle;\n",
              "    }\n",
              "\n",
              "    .dataframe tbody tr th {\n",
              "        vertical-align: top;\n",
              "    }\n",
              "\n",
              "    .dataframe thead th {\n",
              "        text-align: right;\n",
              "    }\n",
              "</style>\n",
              "<table border=\"1\" class=\"dataframe\">\n",
              "  <thead>\n",
              "    <tr style=\"text-align: right;\">\n",
              "      <th></th>\n",
              "      <th>finding</th>\n",
              "      <th>clinical_notes</th>\n",
              "      <th>report_length</th>\n",
              "    </tr>\n",
              "  </thead>\n",
              "  <tbody>\n",
              "    <tr>\n",
              "      <th>0</th>\n",
              "      <td>COVID-19</td>\n",
              "      <td>On January 22, 2020, a 65-year-old man with a ...</td>\n",
              "      <td>699</td>\n",
              "    </tr>\n",
              "    <tr>\n",
              "      <th>1</th>\n",
              "      <td>COVID-19</td>\n",
              "      <td>On January 22, 2020, a 65-year-old man with a ...</td>\n",
              "      <td>917</td>\n",
              "    </tr>\n",
              "    <tr>\n",
              "      <th>2</th>\n",
              "      <td>COVID-19</td>\n",
              "      <td>On January 22, 2020, a 65-year-old man with a ...</td>\n",
              "      <td>917</td>\n",
              "    </tr>\n",
              "    <tr>\n",
              "      <th>3</th>\n",
              "      <td>COVID-19</td>\n",
              "      <td>On January 22, 2020, a 65-year-old man with a ...</td>\n",
              "      <td>644</td>\n",
              "    </tr>\n",
              "    <tr>\n",
              "      <th>4</th>\n",
              "      <td>COVID-19</td>\n",
              "      <td>diffuse infiltrates in the bilateral lower lungs</td>\n",
              "      <td>48</td>\n",
              "    </tr>\n",
              "    <tr>\n",
              "      <th>5</th>\n",
              "      <td>COVID-19</td>\n",
              "      <td>progressive diffuse interstitial opacities and...</td>\n",
              "      <td>115</td>\n",
              "    </tr>\n",
              "    <tr>\n",
              "      <th>6</th>\n",
              "      <td>ARDS</td>\n",
              "      <td>Severe ARDS. Person is intubated with an OG in...</td>\n",
              "      <td>53</td>\n",
              "    </tr>\n",
              "    <tr>\n",
              "      <th>7</th>\n",
              "      <td>COVID-19</td>\n",
              "      <td>Case 2: chest x-ray obtained on Jan 6 (2A). Th...</td>\n",
              "      <td>563</td>\n",
              "    </tr>\n",
              "    <tr>\n",
              "      <th>8</th>\n",
              "      <td>COVID-19</td>\n",
              "      <td>Case 2: chest x-ray obtained on Jan 6 (2A). Th...</td>\n",
              "      <td>563</td>\n",
              "    </tr>\n",
              "    <tr>\n",
              "      <th>9</th>\n",
              "      <td>SARS</td>\n",
              "      <td>SARS in a 74-year-old man who developed sympto...</td>\n",
              "      <td>186</td>\n",
              "    </tr>\n",
              "  </tbody>\n",
              "</table>\n",
              "</div>"
            ],
            "text/plain": [
              "    finding                                     clinical_notes  report_length\n",
              "0  COVID-19  On January 22, 2020, a 65-year-old man with a ...            699\n",
              "1  COVID-19  On January 22, 2020, a 65-year-old man with a ...            917\n",
              "2  COVID-19  On January 22, 2020, a 65-year-old man with a ...            917\n",
              "3  COVID-19  On January 22, 2020, a 65-year-old man with a ...            644\n",
              "4  COVID-19   diffuse infiltrates in the bilateral lower lungs             48\n",
              "5  COVID-19  progressive diffuse interstitial opacities and...            115\n",
              "6      ARDS  Severe ARDS. Person is intubated with an OG in...             53\n",
              "7  COVID-19  Case 2: chest x-ray obtained on Jan 6 (2A). Th...            563\n",
              "8  COVID-19  Case 2: chest x-ray obtained on Jan 6 (2A). Th...            563\n",
              "9      SARS  SARS in a 74-year-old man who developed sympto...            186"
            ]
          },
          "metadata": {
            "tags": []
          },
          "execution_count": 6
        }
      ]
    },
    {
      "cell_type": "code",
      "metadata": {
        "colab": {
          "base_uri": "https://localhost:8080/",
          "height": 558
        },
        "id": "tSm965-1lLHa",
        "outputId": "b8805b1f-567d-4f41-8043-2502c68c75b6"
      },
      "source": [
        "#Remove punctuation and convert everything to lower case\n",
        "data_extracted['punctuation']=data_extracted['clinical_notes'].str.lower()\n",
        "data_extracted['punctuation']=data_extracted['punctuation'].str.replace('[^\\w\\s]','')\n",
        "data_extracted.head(10)"
      ],
      "execution_count": null,
      "outputs": [
        {
          "output_type": "stream",
          "text": [
            "/usr/local/lib/python3.7/dist-packages/ipykernel_launcher.py:2: SettingWithCopyWarning: \n",
            "A value is trying to be set on a copy of a slice from a DataFrame.\n",
            "Try using .loc[row_indexer,col_indexer] = value instead\n",
            "\n",
            "See the caveats in the documentation: https://pandas.pydata.org/pandas-docs/stable/user_guide/indexing.html#returning-a-view-versus-a-copy\n",
            "  \n",
            "/usr/local/lib/python3.7/dist-packages/ipykernel_launcher.py:3: SettingWithCopyWarning: \n",
            "A value is trying to be set on a copy of a slice from a DataFrame.\n",
            "Try using .loc[row_indexer,col_indexer] = value instead\n",
            "\n",
            "See the caveats in the documentation: https://pandas.pydata.org/pandas-docs/stable/user_guide/indexing.html#returning-a-view-versus-a-copy\n",
            "  This is separate from the ipykernel package so we can avoid doing imports until\n"
          ],
          "name": "stderr"
        },
        {
          "output_type": "execute_result",
          "data": {
            "text/html": [
              "<div>\n",
              "<style scoped>\n",
              "    .dataframe tbody tr th:only-of-type {\n",
              "        vertical-align: middle;\n",
              "    }\n",
              "\n",
              "    .dataframe tbody tr th {\n",
              "        vertical-align: top;\n",
              "    }\n",
              "\n",
              "    .dataframe thead th {\n",
              "        text-align: right;\n",
              "    }\n",
              "</style>\n",
              "<table border=\"1\" class=\"dataframe\">\n",
              "  <thead>\n",
              "    <tr style=\"text-align: right;\">\n",
              "      <th></th>\n",
              "      <th>finding</th>\n",
              "      <th>clinical_notes</th>\n",
              "      <th>report_length</th>\n",
              "      <th>punctuation</th>\n",
              "    </tr>\n",
              "  </thead>\n",
              "  <tbody>\n",
              "    <tr>\n",
              "      <th>0</th>\n",
              "      <td>COVID-19</td>\n",
              "      <td>On January 22, 2020, a 65-year-old man with a ...</td>\n",
              "      <td>699</td>\n",
              "      <td>on january 22 2020 a 65yearold man with a hist...</td>\n",
              "    </tr>\n",
              "    <tr>\n",
              "      <th>1</th>\n",
              "      <td>COVID-19</td>\n",
              "      <td>On January 22, 2020, a 65-year-old man with a ...</td>\n",
              "      <td>917</td>\n",
              "      <td>on january 22 2020 a 65yearold man with a hist...</td>\n",
              "    </tr>\n",
              "    <tr>\n",
              "      <th>2</th>\n",
              "      <td>COVID-19</td>\n",
              "      <td>On January 22, 2020, a 65-year-old man with a ...</td>\n",
              "      <td>917</td>\n",
              "      <td>on january 22 2020 a 65yearold man with a hist...</td>\n",
              "    </tr>\n",
              "    <tr>\n",
              "      <th>3</th>\n",
              "      <td>COVID-19</td>\n",
              "      <td>On January 22, 2020, a 65-year-old man with a ...</td>\n",
              "      <td>644</td>\n",
              "      <td>on january 22 2020 a 65yearold man with a hist...</td>\n",
              "    </tr>\n",
              "    <tr>\n",
              "      <th>4</th>\n",
              "      <td>COVID-19</td>\n",
              "      <td>diffuse infiltrates in the bilateral lower lungs</td>\n",
              "      <td>48</td>\n",
              "      <td>diffuse infiltrates in the bilateral lower lungs</td>\n",
              "    </tr>\n",
              "    <tr>\n",
              "      <th>5</th>\n",
              "      <td>COVID-19</td>\n",
              "      <td>progressive diffuse interstitial opacities and...</td>\n",
              "      <td>115</td>\n",
              "      <td>progressive diffuse interstitial opacities and...</td>\n",
              "    </tr>\n",
              "    <tr>\n",
              "      <th>6</th>\n",
              "      <td>ARDS</td>\n",
              "      <td>Severe ARDS. Person is intubated with an OG in...</td>\n",
              "      <td>53</td>\n",
              "      <td>severe ards person is intubated with an og in ...</td>\n",
              "    </tr>\n",
              "    <tr>\n",
              "      <th>7</th>\n",
              "      <td>COVID-19</td>\n",
              "      <td>Case 2: chest x-ray obtained on Jan 6 (2A). Th...</td>\n",
              "      <td>563</td>\n",
              "      <td>case 2 chest xray obtained on jan 6 2a the bri...</td>\n",
              "    </tr>\n",
              "    <tr>\n",
              "      <th>8</th>\n",
              "      <td>COVID-19</td>\n",
              "      <td>Case 2: chest x-ray obtained on Jan 6 (2A). Th...</td>\n",
              "      <td>563</td>\n",
              "      <td>case 2 chest xray obtained on jan 6 2a the bri...</td>\n",
              "    </tr>\n",
              "    <tr>\n",
              "      <th>9</th>\n",
              "      <td>SARS</td>\n",
              "      <td>SARS in a 74-year-old man who developed sympto...</td>\n",
              "      <td>186</td>\n",
              "      <td>sars in a 74yearold man who developed symptoms...</td>\n",
              "    </tr>\n",
              "  </tbody>\n",
              "</table>\n",
              "</div>"
            ],
            "text/plain": [
              "    finding  ...                                        punctuation\n",
              "0  COVID-19  ...  on january 22 2020 a 65yearold man with a hist...\n",
              "1  COVID-19  ...  on january 22 2020 a 65yearold man with a hist...\n",
              "2  COVID-19  ...  on january 22 2020 a 65yearold man with a hist...\n",
              "3  COVID-19  ...  on january 22 2020 a 65yearold man with a hist...\n",
              "4  COVID-19  ...   diffuse infiltrates in the bilateral lower lungs\n",
              "5  COVID-19  ...  progressive diffuse interstitial opacities and...\n",
              "6      ARDS  ...  severe ards person is intubated with an og in ...\n",
              "7  COVID-19  ...  case 2 chest xray obtained on jan 6 2a the bri...\n",
              "8  COVID-19  ...  case 2 chest xray obtained on jan 6 2a the bri...\n",
              "9      SARS  ...  sars in a 74yearold man who developed symptoms...\n",
              "\n",
              "[10 rows x 4 columns]"
            ]
          },
          "metadata": {
            "tags": []
          },
          "execution_count": 7
        }
      ]
    },
    {
      "cell_type": "code",
      "metadata": {
        "colab": {
          "base_uri": "https://localhost:8080/",
          "height": 525
        },
        "id": "Xy0-2sGMlNxy",
        "outputId": "5e6c8e49-8f92-4ea1-afe6-864b76415e2a"
      },
      "source": [
        "import nltk\n",
        "nltk.download('wordnet')\n",
        "nltk.download('punkt')     #for word_tokenize function\n",
        "w_tokenizer = nltk.tokenize.WhitespaceTokenizer()\n",
        "lemmatizer = nltk.stem.WordNetLemmatizer()\n",
        "\n",
        "def lemmatize_text(text): \n",
        "  word_list=nltk.word_tokenize(text)\n",
        "  txt=' '.join([lemmatizer.lemmatize(w,pos='v') for w in word_list])  #noun is not working \n",
        "  #s=[lemmatizer.lemmatize(w) for w in w_tokenizer.tokenize(text)] \n",
        "  #txt=' '.join(s)\n",
        "  return txt\n",
        "\n",
        "data_extracted['lemmatisation'] = data_extracted.punctuation.apply(lemmatize_text)\n",
        "data_extracted.head(10)"
      ],
      "execution_count": null,
      "outputs": [
        {
          "output_type": "stream",
          "text": [
            "[nltk_data] Downloading package wordnet to /root/nltk_data...\n",
            "[nltk_data]   Unzipping corpora/wordnet.zip.\n",
            "[nltk_data] Downloading package punkt to /root/nltk_data...\n",
            "[nltk_data]   Unzipping tokenizers/punkt.zip.\n"
          ],
          "name": "stdout"
        },
        {
          "output_type": "stream",
          "text": [
            "/usr/local/lib/python3.7/dist-packages/ipykernel_launcher.py:14: SettingWithCopyWarning: \n",
            "A value is trying to be set on a copy of a slice from a DataFrame.\n",
            "Try using .loc[row_indexer,col_indexer] = value instead\n",
            "\n",
            "See the caveats in the documentation: https://pandas.pydata.org/pandas-docs/stable/user_guide/indexing.html#returning-a-view-versus-a-copy\n",
            "  \n"
          ],
          "name": "stderr"
        },
        {
          "output_type": "execute_result",
          "data": {
            "text/html": [
              "<div>\n",
              "<style scoped>\n",
              "    .dataframe tbody tr th:only-of-type {\n",
              "        vertical-align: middle;\n",
              "    }\n",
              "\n",
              "    .dataframe tbody tr th {\n",
              "        vertical-align: top;\n",
              "    }\n",
              "\n",
              "    .dataframe thead th {\n",
              "        text-align: right;\n",
              "    }\n",
              "</style>\n",
              "<table border=\"1\" class=\"dataframe\">\n",
              "  <thead>\n",
              "    <tr style=\"text-align: right;\">\n",
              "      <th></th>\n",
              "      <th>finding</th>\n",
              "      <th>clinical_notes</th>\n",
              "      <th>report_length</th>\n",
              "      <th>punctuation</th>\n",
              "      <th>lemmatisation</th>\n",
              "    </tr>\n",
              "  </thead>\n",
              "  <tbody>\n",
              "    <tr>\n",
              "      <th>0</th>\n",
              "      <td>COVID-19</td>\n",
              "      <td>On January 22, 2020, a 65-year-old man with a ...</td>\n",
              "      <td>699</td>\n",
              "      <td>on january 22 2020 a 65yearold man with a hist...</td>\n",
              "      <td>on january 22 2020 a 65yearold man with a hist...</td>\n",
              "    </tr>\n",
              "    <tr>\n",
              "      <th>1</th>\n",
              "      <td>COVID-19</td>\n",
              "      <td>On January 22, 2020, a 65-year-old man with a ...</td>\n",
              "      <td>917</td>\n",
              "      <td>on january 22 2020 a 65yearold man with a hist...</td>\n",
              "      <td>on january 22 2020 a 65yearold man with a hist...</td>\n",
              "    </tr>\n",
              "    <tr>\n",
              "      <th>2</th>\n",
              "      <td>COVID-19</td>\n",
              "      <td>On January 22, 2020, a 65-year-old man with a ...</td>\n",
              "      <td>917</td>\n",
              "      <td>on january 22 2020 a 65yearold man with a hist...</td>\n",
              "      <td>on january 22 2020 a 65yearold man with a hist...</td>\n",
              "    </tr>\n",
              "    <tr>\n",
              "      <th>3</th>\n",
              "      <td>COVID-19</td>\n",
              "      <td>On January 22, 2020, a 65-year-old man with a ...</td>\n",
              "      <td>644</td>\n",
              "      <td>on january 22 2020 a 65yearold man with a hist...</td>\n",
              "      <td>on january 22 2020 a 65yearold man with a hist...</td>\n",
              "    </tr>\n",
              "    <tr>\n",
              "      <th>4</th>\n",
              "      <td>COVID-19</td>\n",
              "      <td>diffuse infiltrates in the bilateral lower lungs</td>\n",
              "      <td>48</td>\n",
              "      <td>diffuse infiltrates in the bilateral lower lungs</td>\n",
              "      <td>diffuse infiltrate in the bilateral lower lungs</td>\n",
              "    </tr>\n",
              "    <tr>\n",
              "      <th>5</th>\n",
              "      <td>COVID-19</td>\n",
              "      <td>progressive diffuse interstitial opacities and...</td>\n",
              "      <td>115</td>\n",
              "      <td>progressive diffuse interstitial opacities and...</td>\n",
              "      <td>progressive diffuse interstitial opacities and...</td>\n",
              "    </tr>\n",
              "    <tr>\n",
              "      <th>6</th>\n",
              "      <td>ARDS</td>\n",
              "      <td>Severe ARDS. Person is intubated with an OG in...</td>\n",
              "      <td>53</td>\n",
              "      <td>severe ards person is intubated with an og in ...</td>\n",
              "      <td>severe ards person be intubate with an og in p...</td>\n",
              "    </tr>\n",
              "    <tr>\n",
              "      <th>7</th>\n",
              "      <td>COVID-19</td>\n",
              "      <td>Case 2: chest x-ray obtained on Jan 6 (2A). Th...</td>\n",
              "      <td>563</td>\n",
              "      <td>case 2 chest xray obtained on jan 6 2a the bri...</td>\n",
              "      <td>case 2 chest xray obtain on jan 6 2a the brigh...</td>\n",
              "    </tr>\n",
              "    <tr>\n",
              "      <th>8</th>\n",
              "      <td>COVID-19</td>\n",
              "      <td>Case 2: chest x-ray obtained on Jan 6 (2A). Th...</td>\n",
              "      <td>563</td>\n",
              "      <td>case 2 chest xray obtained on jan 6 2a the bri...</td>\n",
              "      <td>case 2 chest xray obtain on jan 6 2a the brigh...</td>\n",
              "    </tr>\n",
              "    <tr>\n",
              "      <th>9</th>\n",
              "      <td>SARS</td>\n",
              "      <td>SARS in a 74-year-old man who developed sympto...</td>\n",
              "      <td>186</td>\n",
              "      <td>sars in a 74yearold man who developed symptoms...</td>\n",
              "      <td>sars in a 74yearold man who develop symptoms 4...</td>\n",
              "    </tr>\n",
              "  </tbody>\n",
              "</table>\n",
              "</div>"
            ],
            "text/plain": [
              "    finding  ...                                      lemmatisation\n",
              "0  COVID-19  ...  on january 22 2020 a 65yearold man with a hist...\n",
              "1  COVID-19  ...  on january 22 2020 a 65yearold man with a hist...\n",
              "2  COVID-19  ...  on january 22 2020 a 65yearold man with a hist...\n",
              "3  COVID-19  ...  on january 22 2020 a 65yearold man with a hist...\n",
              "4  COVID-19  ...    diffuse infiltrate in the bilateral lower lungs\n",
              "5  COVID-19  ...  progressive diffuse interstitial opacities and...\n",
              "6      ARDS  ...  severe ards person be intubate with an og in p...\n",
              "7  COVID-19  ...  case 2 chest xray obtain on jan 6 2a the brigh...\n",
              "8  COVID-19  ...  case 2 chest xray obtain on jan 6 2a the brigh...\n",
              "9      SARS  ...  sars in a 74yearold man who develop symptoms 4...\n",
              "\n",
              "[10 rows x 5 columns]"
            ]
          },
          "metadata": {
            "tags": []
          },
          "execution_count": 8
        }
      ]
    },
    {
      "cell_type": "code",
      "metadata": {
        "colab": {
          "base_uri": "https://localhost:8080/",
          "height": 659
        },
        "id": "s7vXXYzhlQfW",
        "outputId": "a94a20db-f822-4fa2-f6de-90c17f8eaa77"
      },
      "source": [
        "nltk.download('stopwords')\n",
        "from nltk.corpus import stopwords\n",
        "stop = stopwords.words('english')\n",
        "\n",
        "def stop_removal(text):\n",
        "  t=[x for x in text.split() if x not in stop]\n",
        "  s=' '.join(t)\n",
        "  return s\n",
        "\n",
        "data_extracted['stopwords']=data_extracted.lemmatisation.apply(stop_removal)\n",
        "data_extracted.head(10)"
      ],
      "execution_count": null,
      "outputs": [
        {
          "output_type": "stream",
          "text": [
            "[nltk_data] Downloading package stopwords to /root/nltk_data...\n",
            "[nltk_data]   Unzipping corpora/stopwords.zip.\n"
          ],
          "name": "stdout"
        },
        {
          "output_type": "stream",
          "text": [
            "/usr/local/lib/python3.7/dist-packages/ipykernel_launcher.py:10: SettingWithCopyWarning: \n",
            "A value is trying to be set on a copy of a slice from a DataFrame.\n",
            "Try using .loc[row_indexer,col_indexer] = value instead\n",
            "\n",
            "See the caveats in the documentation: https://pandas.pydata.org/pandas-docs/stable/user_guide/indexing.html#returning-a-view-versus-a-copy\n",
            "  # Remove the CWD from sys.path while we load stuff.\n"
          ],
          "name": "stderr"
        },
        {
          "output_type": "execute_result",
          "data": {
            "text/html": [
              "<div>\n",
              "<style scoped>\n",
              "    .dataframe tbody tr th:only-of-type {\n",
              "        vertical-align: middle;\n",
              "    }\n",
              "\n",
              "    .dataframe tbody tr th {\n",
              "        vertical-align: top;\n",
              "    }\n",
              "\n",
              "    .dataframe thead th {\n",
              "        text-align: right;\n",
              "    }\n",
              "</style>\n",
              "<table border=\"1\" class=\"dataframe\">\n",
              "  <thead>\n",
              "    <tr style=\"text-align: right;\">\n",
              "      <th></th>\n",
              "      <th>finding</th>\n",
              "      <th>clinical_notes</th>\n",
              "      <th>report_length</th>\n",
              "      <th>punctuation</th>\n",
              "      <th>lemmatisation</th>\n",
              "      <th>stopwords</th>\n",
              "    </tr>\n",
              "  </thead>\n",
              "  <tbody>\n",
              "    <tr>\n",
              "      <th>0</th>\n",
              "      <td>COVID-19</td>\n",
              "      <td>On January 22, 2020, a 65-year-old man with a ...</td>\n",
              "      <td>699</td>\n",
              "      <td>on january 22 2020 a 65yearold man with a hist...</td>\n",
              "      <td>on january 22 2020 a 65yearold man with a hist...</td>\n",
              "      <td>january 22 2020 65yearold man history hyperten...</td>\n",
              "    </tr>\n",
              "    <tr>\n",
              "      <th>1</th>\n",
              "      <td>COVID-19</td>\n",
              "      <td>On January 22, 2020, a 65-year-old man with a ...</td>\n",
              "      <td>917</td>\n",
              "      <td>on january 22 2020 a 65yearold man with a hist...</td>\n",
              "      <td>on january 22 2020 a 65yearold man with a hist...</td>\n",
              "      <td>january 22 2020 65yearold man history hyperten...</td>\n",
              "    </tr>\n",
              "    <tr>\n",
              "      <th>2</th>\n",
              "      <td>COVID-19</td>\n",
              "      <td>On January 22, 2020, a 65-year-old man with a ...</td>\n",
              "      <td>917</td>\n",
              "      <td>on january 22 2020 a 65yearold man with a hist...</td>\n",
              "      <td>on january 22 2020 a 65yearold man with a hist...</td>\n",
              "      <td>january 22 2020 65yearold man history hyperten...</td>\n",
              "    </tr>\n",
              "    <tr>\n",
              "      <th>3</th>\n",
              "      <td>COVID-19</td>\n",
              "      <td>On January 22, 2020, a 65-year-old man with a ...</td>\n",
              "      <td>644</td>\n",
              "      <td>on january 22 2020 a 65yearold man with a hist...</td>\n",
              "      <td>on january 22 2020 a 65yearold man with a hist...</td>\n",
              "      <td>january 22 2020 65yearold man history hyperten...</td>\n",
              "    </tr>\n",
              "    <tr>\n",
              "      <th>4</th>\n",
              "      <td>COVID-19</td>\n",
              "      <td>diffuse infiltrates in the bilateral lower lungs</td>\n",
              "      <td>48</td>\n",
              "      <td>diffuse infiltrates in the bilateral lower lungs</td>\n",
              "      <td>diffuse infiltrate in the bilateral lower lungs</td>\n",
              "      <td>diffuse infiltrate bilateral lower lungs</td>\n",
              "    </tr>\n",
              "    <tr>\n",
              "      <th>5</th>\n",
              "      <td>COVID-19</td>\n",
              "      <td>progressive diffuse interstitial opacities and...</td>\n",
              "      <td>115</td>\n",
              "      <td>progressive diffuse interstitial opacities and...</td>\n",
              "      <td>progressive diffuse interstitial opacities and...</td>\n",
              "      <td>progressive diffuse interstitial opacities con...</td>\n",
              "    </tr>\n",
              "    <tr>\n",
              "      <th>6</th>\n",
              "      <td>ARDS</td>\n",
              "      <td>Severe ARDS. Person is intubated with an OG in...</td>\n",
              "      <td>53</td>\n",
              "      <td>severe ards person is intubated with an og in ...</td>\n",
              "      <td>severe ards person be intubate with an og in p...</td>\n",
              "      <td>severe ards person intubate og place</td>\n",
              "    </tr>\n",
              "    <tr>\n",
              "      <th>7</th>\n",
              "      <td>COVID-19</td>\n",
              "      <td>Case 2: chest x-ray obtained on Jan 6 (2A). Th...</td>\n",
              "      <td>563</td>\n",
              "      <td>case 2 chest xray obtained on jan 6 2a the bri...</td>\n",
              "      <td>case 2 chest xray obtain on jan 6 2a the brigh...</td>\n",
              "      <td>case 2 chest xray obtain jan 6 2a brightness l...</td>\n",
              "    </tr>\n",
              "    <tr>\n",
              "      <th>8</th>\n",
              "      <td>COVID-19</td>\n",
              "      <td>Case 2: chest x-ray obtained on Jan 6 (2A). Th...</td>\n",
              "      <td>563</td>\n",
              "      <td>case 2 chest xray obtained on jan 6 2a the bri...</td>\n",
              "      <td>case 2 chest xray obtain on jan 6 2a the brigh...</td>\n",
              "      <td>case 2 chest xray obtain jan 6 2a brightness l...</td>\n",
              "    </tr>\n",
              "    <tr>\n",
              "      <th>9</th>\n",
              "      <td>SARS</td>\n",
              "      <td>SARS in a 74-year-old man who developed sympto...</td>\n",
              "      <td>186</td>\n",
              "      <td>sars in a 74yearold man who developed symptoms...</td>\n",
              "      <td>sars in a 74yearold man who develop symptoms 4...</td>\n",
              "      <td>sars 74yearold man develop symptoms 4 days exp...</td>\n",
              "    </tr>\n",
              "  </tbody>\n",
              "</table>\n",
              "</div>"
            ],
            "text/plain": [
              "    finding  ...                                          stopwords\n",
              "0  COVID-19  ...  january 22 2020 65yearold man history hyperten...\n",
              "1  COVID-19  ...  january 22 2020 65yearold man history hyperten...\n",
              "2  COVID-19  ...  january 22 2020 65yearold man history hyperten...\n",
              "3  COVID-19  ...  january 22 2020 65yearold man history hyperten...\n",
              "4  COVID-19  ...           diffuse infiltrate bilateral lower lungs\n",
              "5  COVID-19  ...  progressive diffuse interstitial opacities con...\n",
              "6      ARDS  ...               severe ards person intubate og place\n",
              "7  COVID-19  ...  case 2 chest xray obtain jan 6 2a brightness l...\n",
              "8  COVID-19  ...  case 2 chest xray obtain jan 6 2a brightness l...\n",
              "9      SARS  ...  sars 74yearold man develop symptoms 4 days exp...\n",
              "\n",
              "[10 rows x 6 columns]"
            ]
          },
          "metadata": {
            "tags": []
          },
          "execution_count": 9
        }
      ]
    },
    {
      "cell_type": "code",
      "metadata": {
        "id": "Us-Ke6TitA6M",
        "colab": {
          "base_uri": "https://localhost:8080/"
        },
        "outputId": "15205f0f-bc9d-482e-8c2e-b07e38690d1c"
      },
      "source": [
        "#Construct TFIDF matrix\n",
        "from sklearn.feature_extraction.text import TfidfVectorizer\n",
        "#both unigrams and bigrams are extracted. Change ngram_range=(1,1) only for unigrams\n",
        "tfidf = TfidfVectorizer(stop_words='english',ngram_range=(1,2))\n",
        "data_extracted['number_removed']=data_extracted['stopwords'].str.replace('\\d+', '')\n",
        "tfidf_matrix = tfidf.fit_transform(data_extracted['number_removed'])\n",
        "print('Shape of tfidf matrix: ',tfidf_matrix.shape)\n",
        "print('Feature names: ',tfidf.get_feature_names()[400:410])\n",
        "\n",
        "feature_names = tfidf.get_feature_names()\n",
        "corpus_index = [n for n in range(1,tfidf_matrix.shape[0]+1)]\n",
        "values=tfidf_matrix.T.todense()\n",
        "transpose_values=np.array(values).transpose()\n",
        "tfidf_matrix_display = pd.DataFrame(transpose_values, index=corpus_index, columns=feature_names)\n",
        "print(tfidf_matrix_display[['chest', 'patient', 'multiple', 'peripheral','bilateral','lower','lung','image','lob','ct','right','lobe','air','pneumonia','history']])"
      ],
      "execution_count": null,
      "outputs": [
        {
          "output_type": "stream",
          "text": [
            "/usr/local/lib/python3.7/dist-packages/ipykernel_launcher.py:5: SettingWithCopyWarning: \n",
            "A value is trying to be set on a copy of a slice from a DataFrame.\n",
            "Try using .loc[row_indexer,col_indexer] = value instead\n",
            "\n",
            "See the caveats in the documentation: https://pandas.pydata.org/pandas-docs/stable/user_guide/indexing.html#returning-a-view-versus-a-copy\n",
            "  \"\"\"\n"
          ],
          "name": "stderr"
        },
        {
          "output_type": "stream",
          "text": [
            "Shape of tfidf matrix:  (584, 12935)\n",
            "Feature names:  ['allow', 'allow cpap', 'alongside', 'alongside scatter', 'alpha', 'alpha level', 'alpha measure', 'alphab', 'alphab aerosol', 'alter']\n",
            "        chest   patient  multiple  ...       air  pneumonia   history\n",
            "1    0.030577  0.000000       0.0  ...  0.000000   0.000000  0.042129\n",
            "2    0.026471  0.000000       0.0  ...  0.047673   0.000000  0.036472\n",
            "3    0.026471  0.000000       0.0  ...  0.047673   0.000000  0.036472\n",
            "4    0.000000  0.000000       0.0  ...  0.000000   0.000000  0.043610\n",
            "5    0.000000  0.000000       0.0  ...  0.000000   0.000000  0.000000\n",
            "..        ...       ...       ...  ...       ...        ...       ...\n",
            "580  0.000000  0.000000       0.0  ...  0.000000   0.000000  0.000000\n",
            "581  0.000000  0.000000       0.0  ...  0.000000   0.000000  0.000000\n",
            "582  0.034917  0.000000       0.0  ...  0.000000   0.000000  0.000000\n",
            "583  0.091897  0.049302       0.0  ...  0.000000   0.035382  0.031654\n",
            "584  0.091634  0.049161       0.0  ...  0.000000   0.035281  0.031564\n",
            "\n",
            "[584 rows x 15 columns]\n"
          ],
          "name": "stdout"
        }
      ]
    },
    {
      "cell_type": "code",
      "metadata": {
        "id": "cMMKpGtxlV0O",
        "colab": {
          "base_uri": "https://localhost:8080/"
        },
        "outputId": "655e00f6-732a-4eb8-be5e-b335329f61d2"
      },
      "source": [
        "# Import label encoder\n",
        "from sklearn import preprocessing\n",
        "  \n",
        "# label_encoder object knows how to understand word labels.\n",
        "label_encoder = preprocessing.LabelEncoder()\n",
        "  \n",
        "# Encode labels in column 'species'.\n",
        "data_extracted['finding_encoded']= label_encoder.fit_transform(data_extracted['finding'])\n"
      ],
      "execution_count": null,
      "outputs": [
        {
          "output_type": "stream",
          "text": [
            "/usr/local/lib/python3.7/dist-packages/ipykernel_launcher.py:8: SettingWithCopyWarning: \n",
            "A value is trying to be set on a copy of a slice from a DataFrame.\n",
            "Try using .loc[row_indexer,col_indexer] = value instead\n",
            "\n",
            "See the caveats in the documentation: https://pandas.pydata.org/pandas-docs/stable/user_guide/indexing.html#returning-a-view-versus-a-copy\n",
            "  \n"
          ],
          "name": "stderr"
        }
      ]
    },
    {
      "cell_type": "code",
      "metadata": {
        "id": "MJBbPTLcxrPn",
        "colab": {
          "base_uri": "https://localhost:8080/",
          "height": 357
        },
        "outputId": "e0314e20-16bd-44d5-9ca1-7ed0fc7ab17d"
      },
      "source": [
        "dataframe=pd.DataFrame()\n",
        "dataframe['input_variable']=data_extracted['stopwords']\n",
        "#Change this to use the encoded target variable\n",
        "dataframe['target']=data_extracted['finding_encoded']\n",
        "dataframe.head(10)"
      ],
      "execution_count": null,
      "outputs": [
        {
          "output_type": "execute_result",
          "data": {
            "text/html": [
              "<div>\n",
              "<style scoped>\n",
              "    .dataframe tbody tr th:only-of-type {\n",
              "        vertical-align: middle;\n",
              "    }\n",
              "\n",
              "    .dataframe tbody tr th {\n",
              "        vertical-align: top;\n",
              "    }\n",
              "\n",
              "    .dataframe thead th {\n",
              "        text-align: right;\n",
              "    }\n",
              "</style>\n",
              "<table border=\"1\" class=\"dataframe\">\n",
              "  <thead>\n",
              "    <tr style=\"text-align: right;\">\n",
              "      <th></th>\n",
              "      <th>input_variable</th>\n",
              "      <th>target</th>\n",
              "    </tr>\n",
              "  </thead>\n",
              "  <tbody>\n",
              "    <tr>\n",
              "      <th>0</th>\n",
              "      <td>january 22 2020 65yearold man history hyperten...</td>\n",
              "      <td>1</td>\n",
              "    </tr>\n",
              "    <tr>\n",
              "      <th>1</th>\n",
              "      <td>january 22 2020 65yearold man history hyperten...</td>\n",
              "      <td>1</td>\n",
              "    </tr>\n",
              "    <tr>\n",
              "      <th>2</th>\n",
              "      <td>january 22 2020 65yearold man history hyperten...</td>\n",
              "      <td>1</td>\n",
              "    </tr>\n",
              "    <tr>\n",
              "      <th>3</th>\n",
              "      <td>january 22 2020 65yearold man history hyperten...</td>\n",
              "      <td>1</td>\n",
              "    </tr>\n",
              "    <tr>\n",
              "      <th>4</th>\n",
              "      <td>diffuse infiltrate bilateral lower lungs</td>\n",
              "      <td>1</td>\n",
              "    </tr>\n",
              "    <tr>\n",
              "      <th>5</th>\n",
              "      <td>progressive diffuse interstitial opacities con...</td>\n",
              "      <td>1</td>\n",
              "    </tr>\n",
              "    <tr>\n",
              "      <th>6</th>\n",
              "      <td>severe ards person intubate og place</td>\n",
              "      <td>0</td>\n",
              "    </tr>\n",
              "    <tr>\n",
              "      <th>7</th>\n",
              "      <td>case 2 chest xray obtain jan 6 2a brightness l...</td>\n",
              "      <td>1</td>\n",
              "    </tr>\n",
              "    <tr>\n",
              "      <th>8</th>\n",
              "      <td>case 2 chest xray obtain jan 6 2a brightness l...</td>\n",
              "      <td>1</td>\n",
              "    </tr>\n",
              "    <tr>\n",
              "      <th>9</th>\n",
              "      <td>sars 74yearold man develop symptoms 4 days exp...</td>\n",
              "      <td>2</td>\n",
              "    </tr>\n",
              "  </tbody>\n",
              "</table>\n",
              "</div>"
            ],
            "text/plain": [
              "                                      input_variable  target\n",
              "0  january 22 2020 65yearold man history hyperten...       1\n",
              "1  january 22 2020 65yearold man history hyperten...       1\n",
              "2  january 22 2020 65yearold man history hyperten...       1\n",
              "3  january 22 2020 65yearold man history hyperten...       1\n",
              "4           diffuse infiltrate bilateral lower lungs       1\n",
              "5  progressive diffuse interstitial opacities con...       1\n",
              "6               severe ards person intubate og place       0\n",
              "7  case 2 chest xray obtain jan 6 2a brightness l...       1\n",
              "8  case 2 chest xray obtain jan 6 2a brightness l...       1\n",
              "9  sars 74yearold man develop symptoms 4 days exp...       2"
            ]
          },
          "metadata": {
            "tags": []
          },
          "execution_count": 12
        }
      ]
    },
    {
      "cell_type": "code",
      "metadata": {
        "id": "2MTqAx5yyS-4",
        "colab": {
          "base_uri": "https://localhost:8080/"
        },
        "outputId": "bb5a0138-d1be-49e3-d151-bb1db8dc9cbd"
      },
      "source": [
        "from sklearn.model_selection import train_test_split\n",
        "train, test = train_test_split(dataframe, test_size=0.2)\n",
        "train, val = train_test_split(train, test_size=0.2)\n",
        "print(len(train), 'train examples')\n",
        "print(len(val), 'validation examples')\n",
        "print(len(test), 'test examples')"
      ],
      "execution_count": null,
      "outputs": [
        {
          "output_type": "stream",
          "text": [
            "373 train examples\n",
            "94 validation examples\n",
            "117 test examples\n"
          ],
          "name": "stdout"
        }
      ]
    },
    {
      "cell_type": "code",
      "metadata": {
        "id": "nR9MijEX1CU_",
        "colab": {
          "base_uri": "https://localhost:8080/"
        },
        "outputId": "9e383e49-d972-463b-e8b7-c18c5461066c"
      },
      "source": [
        "import tensorflow as tf\n",
        "from tensorflow.keras.preprocessing.text import Tokenizer\n",
        "\n",
        "# The maximum number of words to be used. (most frequent)\n",
        "MAX_NB_WORDS = 50000\n",
        "# Max number of words in each report.\n",
        "MAX_SEQUENCE_LENGTH = 250\n",
        "# This is fixed.\n",
        "EMBEDDING_DIM = 100\n",
        "oov_tok='<OOV>'\n",
        "\n",
        "tokenizer = Tokenizer(num_words = MAX_NB_WORDS, oov_token=oov_tok)\n",
        "tokenizer.fit_on_texts(train['input_variable'])\n",
        "word_index = tokenizer.word_index\n",
        "dict(list(word_index.items())[0:10])"
      ],
      "execution_count": null,
      "outputs": [
        {
          "output_type": "execute_result",
          "data": {
            "text/plain": [
              "{'<OOV>': 1,\n",
              " 'bilateral': 7,\n",
              " 'chest': 2,\n",
              " 'consolidation': 9,\n",
              " 'fever': 4,\n",
              " 'leave': 8,\n",
              " 'lower': 10,\n",
              " 'patient': 3,\n",
              " 'right': 5,\n",
              " 'show': 6}"
            ]
          },
          "metadata": {
            "tags": []
          },
          "execution_count": 14
        }
      ]
    },
    {
      "cell_type": "code",
      "metadata": {
        "id": "FXzuEUej1qoh",
        "colab": {
          "base_uri": "https://localhost:8080/"
        },
        "outputId": "c6d5ef7c-ac51-49f5-8bec-68de6aaaf91c"
      },
      "source": [
        "train_sequences = tokenizer.texts_to_sequences(train['input_variable'])\n",
        "print(train_sequences[1])"
      ],
      "execution_count": null,
      "outputs": [
        {
          "output_type": "stream",
          "text": [
            "[676, 107, 3, 16, 4, 265, 79, 11, 312, 349, 13, 267, 142, 2, 158, 677, 32, 446, 389, 86, 234, 59, 60, 248, 447, 678, 164, 15, 66, 195, 164, 679, 164, 350, 33, 96, 89, 159, 680, 165, 15, 66, 291, 165, 3, 681, 98, 62, 682, 389, 16, 4, 388, 79, 11, 249, 574, 3, 683, 684, 351, 170, 575, 685, 889, 222, 890, 576, 2, 22, 61, 212, 7, 39, 41, 21, 292, 10, 27, 97, 112, 268, 108, 686, 505, 577, 269, 63, 687, 151, 87, 352, 688, 40]\n"
          ],
          "name": "stdout"
        }
      ]
    },
    {
      "cell_type": "code",
      "metadata": {
        "id": "q1OSaYjG2dcv",
        "colab": {
          "base_uri": "https://localhost:8080/"
        },
        "outputId": "b5a3d746-59ef-43e5-d211-24752b8c6a3d"
      },
      "source": [
        "#sequences to be in the same size, that’s why we use padding\n",
        "import tensorflow.keras as keras\n",
        "trunc_type = 'post'\n",
        "padding_type = 'post'\n",
        "\n",
        "train_padded = keras.preprocessing.sequence.pad_sequences(train_sequences, maxlen=MAX_SEQUENCE_LENGTH, padding=padding_type, truncating=trunc_type)\n",
        "print(len(train_sequences[0]))\n",
        "print(len(train_padded[0]))\n",
        "\n",
        "print(len(train_sequences[1]))\n",
        "print(len(train_padded[1]))\n",
        "\n",
        "print(len(train_sequences[10]))\n",
        "print(len(train_padded[10]))\n",
        "print(train_padded[10])"
      ],
      "execution_count": null,
      "outputs": [
        {
          "output_type": "stream",
          "text": [
            "83\n",
            "250\n",
            "94\n",
            "250\n",
            "52\n",
            "250\n",
            "[ 905   43   19  270   16   11    4  251   17   29   25  129   54   92\n",
            "   55  906  254  907  908  275   25  458  200  395  225  174  584   62\n",
            "  693    2  158  697  909  213  160    6    5  152   31 1635  272 1636\n",
            "  125  128 1127   74  255   39   88   64   10   31    0    0    0    0\n",
            "    0    0    0    0    0    0    0    0    0    0    0    0    0    0\n",
            "    0    0    0    0    0    0    0    0    0    0    0    0    0    0\n",
            "    0    0    0    0    0    0    0    0    0    0    0    0    0    0\n",
            "    0    0    0    0    0    0    0    0    0    0    0    0    0    0\n",
            "    0    0    0    0    0    0    0    0    0    0    0    0    0    0\n",
            "    0    0    0    0    0    0    0    0    0    0    0    0    0    0\n",
            "    0    0    0    0    0    0    0    0    0    0    0    0    0    0\n",
            "    0    0    0    0    0    0    0    0    0    0    0    0    0    0\n",
            "    0    0    0    0    0    0    0    0    0    0    0    0    0    0\n",
            "    0    0    0    0    0    0    0    0    0    0    0    0    0    0\n",
            "    0    0    0    0    0    0    0    0    0    0    0    0    0    0\n",
            "    0    0    0    0    0    0    0    0    0    0    0    0    0    0\n",
            "    0    0    0    0    0    0    0    0    0    0    0    0    0    0\n",
            "    0    0    0    0    0    0    0    0    0    0    0    0]\n"
          ],
          "name": "stdout"
        }
      ]
    },
    {
      "cell_type": "code",
      "metadata": {
        "id": "cvBEZNnX8bai",
        "colab": {
          "base_uri": "https://localhost:8080/"
        },
        "outputId": "1a323a67-57fd-4445-d00d-d66556022566"
      },
      "source": [
        "#Now we do the same for validation sequences\n",
        "validation_sequences = tokenizer.texts_to_sequences(val['input_variable'])\n",
        "validation_padded = keras.preprocessing.sequence.pad_sequences(validation_sequences, maxlen=MAX_SEQUENCE_LENGTH, padding=padding_type, truncating=trunc_type)\n",
        "\n",
        "print(len(validation_sequences))\n",
        "print(validation_padded.shape)\n",
        "\n",
        "#Test sequences\n",
        "test_sequences = tokenizer.texts_to_sequences(test['input_variable'])\n",
        "test_padded = keras.preprocessing.sequence.pad_sequences(test_sequences, maxlen=MAX_SEQUENCE_LENGTH, padding=padding_type, truncating=trunc_type)\n",
        "\n",
        "print(len(test_sequences))\n",
        "print(test_padded.shape)"
      ],
      "execution_count": null,
      "outputs": [
        {
          "output_type": "stream",
          "text": [
            "94\n",
            "(94, 250)\n",
            "117\n",
            "(117, 250)\n"
          ],
          "name": "stdout"
        }
      ]
    },
    {
      "cell_type": "code",
      "metadata": {
        "id": "kMdg0bgM-Ew_"
      },
      "source": [
        "reverse_word_index = dict([(value, key) for (key, value) in word_index.items()])\n",
        "\n",
        "def decode_article(text):\n",
        "    return ' '.join([reverse_word_index.get(i, '?') for i in text])\n",
        "print(decode_article(train_padded[10]))\n",
        "print('---')\n",
        "print(train['input_variable'][0])"
      ],
      "execution_count": null,
      "outputs": []
    },
    {
      "cell_type": "code",
      "metadata": {
        "id": "unp8Izdu_oZd",
        "colab": {
          "base_uri": "https://localhost:8080/"
        },
        "outputId": "ce222608-a886-4e7e-f146-edcadb08b145"
      },
      "source": [
        "from keras.layers.core import Dense, SpatialDropout1D\n",
        "from keras.layers.convolutional import Conv1D\n",
        "from keras.layers.embeddings import Embedding\n",
        "from keras.layers.pooling import GlobalMaxPooling1D\n",
        "from keras.models import Sequential\n",
        "from keras.preprocessing.sequence import pad_sequences\n",
        "from keras.utils import np_utils\n",
        "from tensorflow.keras.layers import LSTM\n",
        "from keras.callbacks import ModelCheckpoint, EarlyStopping\n",
        "\n",
        "model = tf.keras.Sequential([\n",
        "    # Add an Embedding layer expecting input vocab of size, and output embedding dimension of size 64 we set at the top\n",
        "    tf.keras.layers.Embedding(MAX_NB_WORDS, EMBEDDING_DIM),\n",
        "    tf.keras.layers.Bidirectional(tf.keras.layers.LSTM(EMBEDDING_DIM)),\n",
        "#    tf.keras.layers.Bidirectional(tf.keras.layers.LSTM(32)),\n",
        "    # use ReLU in place of tanh function since they are very good alternatives of each other.\n",
        "    tf.keras.layers.Dense(EMBEDDING_DIM, activation='relu'),\n",
        "    # Add a Dense layer with 6 units and softmax activation.\n",
        "    # When we have multiple outputs, softmax convert outputs layers into a probability distribution.\n",
        "    tf.keras.layers.Dense(6, activation='softmax')\n",
        "])\n",
        "model.summary()"
      ],
      "execution_count": null,
      "outputs": [
        {
          "output_type": "stream",
          "text": [
            "Model: \"sequential\"\n",
            "_________________________________________________________________\n",
            "Layer (type)                 Output Shape              Param #   \n",
            "=================================================================\n",
            "embedding (Embedding)        (None, None, 100)         5000000   \n",
            "_________________________________________________________________\n",
            "bidirectional (Bidirectional (None, 200)               160800    \n",
            "_________________________________________________________________\n",
            "dense (Dense)                (None, 100)               20100     \n",
            "_________________________________________________________________\n",
            "dense_1 (Dense)              (None, 6)                 606       \n",
            "=================================================================\n",
            "Total params: 5,181,506\n",
            "Trainable params: 5,181,506\n",
            "Non-trainable params: 0\n",
            "_________________________________________________________________\n"
          ],
          "name": "stdout"
        }
      ]
    },
    {
      "cell_type": "code",
      "metadata": {
        "id": "JlMCa1iiAh-8",
        "colab": {
          "base_uri": "https://localhost:8080/"
        },
        "outputId": "af763567-1913-4020-d9a2-1f1aa658978d"
      },
      "source": [
        "model.compile(loss='sparse_categorical_crossentropy', optimizer='adam', metrics=['accuracy'])\n",
        "num_epochs = 10\n",
        "history = model.fit(train_padded, train['target'], epochs=num_epochs, validation_data=(validation_padded, val['target']), verbose=2)"
      ],
      "execution_count": null,
      "outputs": [
        {
          "output_type": "stream",
          "text": [
            "Epoch 1/10\n",
            "12/12 - 10s - loss: 1.2798 - accuracy: 0.7560 - val_loss: 0.8055 - val_accuracy: 0.8191\n",
            "Epoch 2/10\n",
            "12/12 - 5s - loss: 0.5740 - accuracy: 0.8338 - val_loss: 0.6149 - val_accuracy: 0.8191\n",
            "Epoch 3/10\n",
            "12/12 - 5s - loss: 0.5220 - accuracy: 0.8338 - val_loss: 0.5609 - val_accuracy: 0.8191\n",
            "Epoch 4/10\n",
            "12/12 - 5s - loss: 0.4397 - accuracy: 0.8338 - val_loss: 0.4684 - val_accuracy: 0.8191\n",
            "Epoch 5/10\n",
            "12/12 - 5s - loss: 0.2599 - accuracy: 0.9223 - val_loss: 0.4139 - val_accuracy: 0.8936\n",
            "Epoch 6/10\n",
            "12/12 - 5s - loss: 0.1506 - accuracy: 0.9517 - val_loss: 0.3641 - val_accuracy: 0.8936\n",
            "Epoch 7/10\n",
            "12/12 - 5s - loss: 0.0762 - accuracy: 0.9705 - val_loss: 0.3703 - val_accuracy: 0.9043\n",
            "Epoch 8/10\n",
            "12/12 - 5s - loss: 0.0276 - accuracy: 0.9973 - val_loss: 0.3641 - val_accuracy: 0.9468\n",
            "Epoch 9/10\n",
            "12/12 - 5s - loss: 0.0085 - accuracy: 0.9973 - val_loss: 0.3907 - val_accuracy: 0.9468\n",
            "Epoch 10/10\n",
            "12/12 - 5s - loss: 0.0247 - accuracy: 0.9973 - val_loss: 0.3821 - val_accuracy: 0.9362\n"
          ],
          "name": "stdout"
        }
      ]
    },
    {
      "cell_type": "code",
      "metadata": {
        "id": "4B2dPUpLBOZ3",
        "colab": {
          "base_uri": "https://localhost:8080/"
        },
        "outputId": "6b358768-05d2-404d-cb96-80fef2357a9d"
      },
      "source": [
        "y_test=test['target'].values\n",
        "score = model.evaluate(test_padded, y_test, verbose = 0) \n",
        "loss = score[0]\n",
        "accuracy = score[1]\n",
        "print('Test loss:', loss) rrr\n",
        "print('Test accuracy:', accuracy)"
      ],
      "execution_count": null,
      "outputs": [
        {
          "output_type": "stream",
          "text": [
            "Test loss: 0.062319315969944\n",
            "Test accuracy: 0.9743589758872986\n"
          ],
          "name": "stdout"
        }
      ]
    },
    {
      "cell_type": "code",
      "metadata": {
        "id": "rzbM9DBkEMN1",
        "colab": {
          "base_uri": "https://localhost:8080/",
          "height": 541
        },
        "outputId": "bbfc7166-c553-4b9c-d5f4-6fd67f6e0453"
      },
      "source": [
        "import matplotlib.pyplot as plt\n",
        "def plot_graphs(history, string):\n",
        "  plt.plot(history.history[string])\n",
        "  plt.plot(history.history['val_'+string])\n",
        "  plt.xlabel(\"Epochs\")\n",
        "  plt.ylabel(string)\n",
        "  plt.legend([string, 'val_'+string])\n",
        "  plt.show()\n",
        "  \n",
        "plot_graphs(history, \"accuracy\")\n",
        "plot_graphs(history, \"loss\")"
      ],
      "execution_count": null,
      "outputs": [
        {
          "output_type": "display_data",
          "data": {
            "image/png": "[encoded data removed]",
            "text/plain": [
              "<Figure size 432x288 with 1 Axes>"
            ]
          },
          "metadata": {
            "tags": [],
            "needs_background": "light"
          }
        },
        {
          "output_type": "display_data",
          "data": {
            "image/png": "[encoded data removed]",
            "text/plain": [
              "<Figure size 432x288 with 1 Axes>"
            ]
          },
          "metadata": {
            "tags": [],
            "needs_background": "light"
          }
        }
      ]
    }
  ]
}